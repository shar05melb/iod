{
 "cells": [
  {
   "cell_type": "markdown",
   "metadata": {
    "id": "iA6gMzOAsIgo"
   },
   "source": [
    "<div>\n",
    "<img src=https://www.institutedata.com/wp-content/uploads/2019/10/iod_h_tp_primary_c.svg width=\"300\">\n",
    "</div>"
   ]
  },
  {
   "cell_type": "markdown",
   "metadata": {
    "id": "6v4X9aDpRxRn"
   },
   "source": [
    "# Numpy Exploration"
   ]
  },
  {
   "cell_type": "code",
   "execution_count": 1,
   "metadata": {
    "id": "hefHy7RERxRp",
    "tags": []
   },
   "outputs": [],
   "source": [
    "import numpy as np\n",
    "import matplotlib.pyplot as plt\n",
    "# import matplotlib\n",
    "\n",
    "# get matplot to show charts inline\n",
    "%matplotlib inline"
   ]
  },
  {
   "cell_type": "code",
   "execution_count": 2,
   "metadata": {
    "id": "hW87a--DRxRu",
    "tags": []
   },
   "outputs": [],
   "source": [
    "np.random.seed(0)\n",
    "height= np.round(np.random.normal(1.75, 0.20, 7000), 2)\n",
    "weight= np.round(np.random.normal(60.32, 15, 7000), 2)\n",
    "population=np.column_stack((height, weight))"
   ]
  },
  {
   "cell_type": "code",
   "execution_count": 3,
   "metadata": {
    "colab": {
     "base_uri": "https://localhost:8080/"
    },
    "executionInfo": {
     "elapsed": 5,
     "status": "ok",
     "timestamp": 1667595136090,
     "user": {
      "displayName": "Jin Yang",
      "userId": "04843300463003240101"
     },
     "user_tz": -660
    },
    "id": "EmcwT6cDTv3J",
    "outputId": "181cac2c-dc51-47c3-e331-02533f6a38ce",
    "tags": []
   },
   "outputs": [
    {
     "name": "stdout",
     "output_type": "stream",
     "text": [
      "height:\n",
      " [2.1  1.83 1.95 ... 1.55 1.54 1.57]\n",
      "weight:\n",
      " [52.6  66.59 29.59 ... 75.48 75.57 55.16]\n",
      "population:\n",
      " [[ 2.1  52.6 ]\n",
      " [ 1.83 66.59]\n",
      " [ 1.95 29.59]\n",
      " ...\n",
      " [ 1.55 75.48]\n",
      " [ 1.54 75.57]\n",
      " [ 1.57 55.16]]\n"
     ]
    }
   ],
   "source": [
    "print('height:\\n',height)\n",
    "print('weight:\\n',weight)\n",
    "print('population:\\n',population)"
   ]
  },
  {
   "cell_type": "code",
   "execution_count": 4,
   "metadata": {
    "colab": {
     "base_uri": "https://localhost:8080/"
    },
    "executionInfo": {
     "elapsed": 5,
     "status": "ok",
     "timestamp": 1667595136091,
     "user": {
      "displayName": "Jin Yang",
      "userId": "04843300463003240101"
     },
     "user_tz": -660
    },
    "id": "qS4k_nYnaIRP",
    "outputId": "95f862fe-b562-49de-e9ec-c1d70e21b210"
   },
   "outputs": [
    {
     "data": {
      "text/plain": [
       "1.0"
      ]
     },
     "execution_count": 4,
     "metadata": {},
     "output_type": "execute_result"
    }
   ],
   "source": [
    "np.min(height)"
   ]
  },
  {
   "cell_type": "markdown",
   "metadata": {
    "id": "FXVi-lphTHs2"
   },
   "source": [
    "**1. Find Dimension of Array**\n",
    "\n",
    "Find the dimension of each array: height, weight, population\n",
    "```\n",
    "# Expected Ouput\n",
    "np.ndim(height): 1\n",
    "np.ndim(weight): 1\n",
    "np.ndim(population): 2\n",
    "```"
   ]
  },
  {
   "cell_type": "code",
   "execution_count": 5,
   "metadata": {
    "colab": {
     "base_uri": "https://localhost:8080/"
    },
    "executionInfo": {
     "elapsed": 4,
     "status": "ok",
     "timestamp": 1667593655030,
     "user": {
      "displayName": "Jin Yang",
      "userId": "04843300463003240101"
     },
     "user_tz": -660
    },
    "id": "Q1bzYdwQUoW9",
    "outputId": "d5f3b2bb-677a-458e-8127-10d09e2bc30d"
   },
   "outputs": [
    {
     "name": "stdout",
     "output_type": "stream",
     "text": [
      "np.ndim(height):  1\n",
      "np.ndim(weight):  1\n",
      "np.ndim(population):  2\n"
     ]
    }
   ],
   "source": [
    "print(\"np.ndim(height): \", np.ndim(height))\n",
    "print(\"np.ndim(weight): \", np.ndim(weight))\n",
    "print(\"np.ndim(population): \", np.ndim(population))"
   ]
  },
  {
   "cell_type": "code",
   "execution_count": null,
   "metadata": {
    "id": "XRhSiPwhxCSs"
   },
   "outputs": [],
   "source": []
  },
  {
   "cell_type": "markdown",
   "metadata": {
    "id": "_TGkqif9T44j"
   },
   "source": [
    "**2. Find Shape of Array**\n",
    "\n",
    "Find the shape of each array: height, weight, population\n",
    "```\n",
    "# Expected Ouput\n",
    "np.shape(height) : (7000,)\n",
    "np.shape(weight) : (7000,)\n",
    "np.shape(population) : (7000, 2)\n",
    "```\n",
    "\n"
   ]
  },
  {
   "cell_type": "markdown",
   "metadata": {
    "id": "I1x7cNp0UIkp"
   },
   "source": [
    "**3. Find Size of Array**\n",
    "\n",
    "Find the size of each array: height, weight, population\n",
    "```\n",
    "# Expected Ouput:\n",
    "np.size(height) : 7000\n",
    "np.size(weight) : 7000\n",
    "np.size(weight) : 14000\n",
    "```\n",
    "\n"
   ]
  },
  {
   "cell_type": "markdown",
   "metadata": {
    "id": "v1N4xcurUVCS"
   },
   "source": [
    "**4. Find Size of Items of Each Array**\n",
    "\n",
    "Find the size of items of each array: height, weight, population\n",
    "```\n",
    "# Expected Output:\n",
    "height.itemsize : 8\n",
    "weight.itemsize : 8\n",
    "population.itemsize : 8\n",
    "```"
   ]
  },
  {
   "cell_type": "markdown",
   "metadata": {
    "id": "r83X2u4HUteY"
   },
   "source": [
    "**4. Find Minimum Value of Each Array**\n",
    "\n",
    "Find the minimum value of each array: height, weight, population\n",
    "```\n",
    "# Expected Output:\n",
    "height.min : 1.0\n",
    "weight.min : 3.24\n",
    "population.min : 1.0\n",
    "```\n",
    "\n"
   ]
  },
  {
   "cell_type": "code",
   "execution_count": 6,
   "metadata": {},
   "outputs": [
    {
     "ename": "TypeError",
     "evalue": "size() missing 1 required positional argument: 'a'",
     "output_type": "error",
     "traceback": [
      "\u001b[1;31m---------------------------------------------------------------------------\u001b[0m",
      "\u001b[1;31mTypeError\u001b[0m                                 Traceback (most recent call last)",
      "Cell \u001b[1;32mIn[6], line 1\u001b[0m\n\u001b[1;32m----> 1\u001b[0m np\u001b[38;5;241m.\u001b[39msize()\n",
      "File \u001b[1;32m<__array_function__ internals>:198\u001b[0m, in \u001b[0;36msize\u001b[1;34m(*args, **kwargs)\u001b[0m\n",
      "\u001b[1;31mTypeError\u001b[0m: size() missing 1 required positional argument: 'a'"
     ]
    }
   ],
   "source": [
    "#np.size()           #method"
   ]
  },
  {
   "cell_type": "code",
   "execution_count": 7,
   "metadata": {},
   "outputs": [
    {
     "data": {
      "text/plain": [
       "8"
      ]
     },
     "execution_count": 7,
     "metadata": {},
     "output_type": "execute_result"
    }
   ],
   "source": [
    "height.itemsize     # atributes "
   ]
  },
  {
   "cell_type": "code",
   "execution_count": null,
   "metadata": {},
   "outputs": [],
   "source": []
  },
  {
   "cell_type": "markdown",
   "metadata": {
    "id": "d7v4phGMVAu0"
   },
   "source": [
    "**5. Find Maximum Value of Each Array**\n",
    "\n",
    "Find the maximum value of each array: height, weight, population\n",
    "```\n",
    "# Expected Output\n",
    "height.max() : 2.51\n",
    "weight.max() : 132.17\n",
    "population.max() : 132.17\n",
    "```"
   ]
  },
  {
   "cell_type": "code",
   "execution_count": 8,
   "metadata": {
    "tags": []
   },
   "outputs": [
    {
     "data": {
      "text/plain": [
       "1.0"
      ]
     },
     "execution_count": 8,
     "metadata": {},
     "output_type": "execute_result"
    }
   ],
   "source": [
    "height.min()\n"
   ]
  },
  {
   "cell_type": "code",
   "execution_count": 9,
   "metadata": {
    "tags": []
   },
   "outputs": [
    {
     "data": {
      "text/plain": [
       "array([2.1 , 1.83, 1.95, ..., 1.55, 1.54, 1.57])"
      ]
     },
     "execution_count": 9,
     "metadata": {},
     "output_type": "execute_result"
    }
   ],
   "source": [
    "population.min(axis= 1)"
   ]
  },
  {
   "cell_type": "code",
   "execution_count": null,
   "metadata": {},
   "outputs": [],
   "source": []
  },
  {
   "cell_type": "code",
   "execution_count": 10,
   "metadata": {
    "colab": {
     "base_uri": "https://localhost:8080/"
    },
    "executionInfo": {
     "elapsed": 3,
     "status": "ok",
     "timestamp": 1667088649041,
     "user": {
      "displayName": "Neil Moraes",
      "userId": "13831610795544426317"
     },
     "user_tz": -780
    },
    "id": "PPYdIfNlOU1N",
    "outputId": "6f325e70-c585-4835-9a9d-653fcaed4ccb"
   },
   "outputs": [
    {
     "name": "stdout",
     "output_type": "stream",
     "text": [
      "2.51\n",
      "112.69\n",
      "112.69\n"
     ]
    }
   ],
   "source": [
    "print(height.max())\n",
    "print(weight.max())\n",
    "print(population.max())"
   ]
  },
  {
   "cell_type": "markdown",
   "metadata": {
    "id": "vYPOvoePVa0m"
   },
   "source": [
    "**6. Find Mean Value of Each Array**\n",
    "\n",
    "Find the mean value of each array: height, weight, population\n",
    "```\n",
    "# Expected Output\n",
    "height.mean() : 1.7494871428571428\n",
    "weight.mean() : 60.41684428571429\n",
    "population.mean() : 31.083165714285716\n",
    "```\n",
    "\n"
   ]
  },
  {
   "cell_type": "code",
   "execution_count": null,
   "metadata": {},
   "outputs": [],
   "source": []
  },
  {
   "cell_type": "code",
   "execution_count": null,
   "metadata": {},
   "outputs": [],
   "source": []
  },
  {
   "cell_type": "code",
   "execution_count": null,
   "metadata": {},
   "outputs": [],
   "source": []
  },
  {
   "cell_type": "markdown",
   "metadata": {
    "id": "Xo7Y5yQPV070"
   },
   "source": [
    "**6. Find Standard Deviation of Each Array**\n",
    "\n",
    "Find the standard deviation value of each array: height, weight, population\n",
    "```\n",
    "# Expected Output\n",
    "height.std() : 0.1981923748970856\n",
    "weight.std() : 14.821310711612284\n",
    "population.std() : 31.090684288943482\n",
    "```"
   ]
  },
  {
   "cell_type": "code",
   "execution_count": null,
   "metadata": {},
   "outputs": [],
   "source": []
  },
  {
   "cell_type": "code",
   "execution_count": null,
   "metadata": {},
   "outputs": [],
   "source": []
  },
  {
   "cell_type": "code",
   "execution_count": null,
   "metadata": {},
   "outputs": [],
   "source": []
  },
  {
   "cell_type": "markdown",
   "metadata": {
    "id": "tOsfNOAbWHGQ"
   },
   "source": [
    "**7. Find Total value of Each Array**\n",
    "\n",
    "Find the sum of each array: height, weight, population\n",
    "```\n",
    "# Expected Output\n",
    "height.sum() : 12219.789999999999\n",
    "weight.sum() : 422009.95\n",
    "population.sum() : 434229.74\n",
    "```"
   ]
  },
  {
   "cell_type": "markdown",
   "metadata": {
    "id": "J11tIVhEWfcI"
   },
   "source": [
    "**8. Create histograms of height and weight**"
   ]
  },
  {
   "cell_type": "code",
   "execution_count": 15,
   "metadata": {
    "tags": []
   },
   "outputs": [
    {
     "data": {
      "text/plain": [
       "(array([   8.,   77.,  394., 1202., 1946., 1865., 1075.,  360.,   69.,\n",
       "           4.]),\n",
       " array([1.   , 1.151, 1.302, 1.453, 1.604, 1.755, 1.906, 2.057, 2.208,\n",
       "        2.359, 2.51 ]),\n",
       " <BarContainer object of 10 artists>)"
      ]
     },
     "execution_count": 15,
     "metadata": {},
     "output_type": "execute_result"
    },
    {
     "data": {
      "image/png": "[encoded data removed]",
      "text/plain": [
       "<Figure size 640x480 with 1 Axes>"
      ]
     },
     "metadata": {},
     "output_type": "display_data"
    }
   ],
   "source": [
    "plt.hist(height)"
   ]
  },
  {
   "cell_type": "code",
   "execution_count": 16,
   "metadata": {
    "tags": []
   },
   "outputs": [
    {
     "data": {
      "text/plain": [
       "(array([   8.,   84.,  351.,  992., 1866., 1890., 1206.,  461.,  120.,\n",
       "          22.]),\n",
       " array([  4.91 ,  15.688,  26.466,  37.244,  48.022,  58.8  ,  69.578,\n",
       "         80.356,  91.134, 101.912, 112.69 ]),\n",
       " <BarContainer object of 10 artists>)"
      ]
     },
     "execution_count": 16,
     "metadata": {},
     "output_type": "execute_result"
    },
    {
     "data": {
      "image/png": "[encoded data removed]",
      "text/plain": [
       "<Figure size 640x480 with 1 Axes>"
      ]
     },
     "metadata": {},
     "output_type": "display_data"
    }
   ],
   "source": [
    "plt.hist(weight)\n"
   ]
  },
  {
   "cell_type": "code",
   "execution_count": 11,
   "metadata": {
    "colab": {
     "base_uri": "https://localhost:8080/",
     "height": 3834
    },
    "executionInfo": {
     "elapsed": 871,
     "status": "ok",
     "timestamp": 1552619858866,
     "user": {
      "displayName": "",
      "photoUrl": "",
      "userId": ""
     },
     "user_tz": -660
    },
    "id": "gOsaH1wYWsnl",
    "outputId": "16ff210c-6f29-45de-ddff-ba5cfee755c2"
   },
   "outputs": [
    {
     "name": "stdout",
     "output_type": "stream",
     "text": [
      "Help on function hist in module matplotlib.pyplot:\n",
      "\n",
      "hist(x, bins=None, range=None, density=False, weights=None, cumulative=False, bottom=None, histtype='bar', align='mid', orientation='vertical', rwidth=None, log=False, color=None, label=None, stacked=False, *, data=None, **kwargs)\n",
      "    Compute and plot a histogram.\n",
      "    \n",
      "    This method uses `numpy.histogram` to bin the data in *x* and count the\n",
      "    number of values in each bin, then draws the distribution either as a\n",
      "    `.BarContainer` or `.Polygon`. The *bins*, *range*, *density*, and\n",
      "    *weights* parameters are forwarded to `numpy.histogram`.\n",
      "    \n",
      "    If the data has already been binned and counted, use `~.bar` or\n",
      "    `~.stairs` to plot the distribution::\n",
      "    \n",
      "        counts, bins = np.histogram(x)\n",
      "        plt.stairs(counts, bins)\n",
      "    \n",
      "    Alternatively, plot pre-computed bins and counts using ``hist()`` by\n",
      "    treating each bin as a single point with a weight equal to its count::\n",
      "    \n",
      "        plt.hist(bins[:-1], bins, weights=counts)\n",
      "    \n",
      "    The data input *x* can be a singular array, a list of datasets of\n",
      "    potentially different lengths ([*x0*, *x1*, ...]), or a 2D ndarray in\n",
      "    which each column is a dataset. Note that the ndarray form is\n",
      "    transposed relative to the list form. If the input is an array, then\n",
      "    the return value is a tuple (*n*, *bins*, *patches*); if the input is a\n",
      "    sequence of arrays, then the return value is a tuple\n",
      "    ([*n0*, *n1*, ...], *bins*, [*patches0*, *patches1*, ...]).\n",
      "    \n",
      "    Masked arrays are not supported.\n",
      "    \n",
      "    Parameters\n",
      "    ----------\n",
      "    x : (n,) array or sequence of (n,) arrays\n",
      "        Input values, this takes either a single array or a sequence of\n",
      "        arrays which are not required to be of the same length.\n",
      "    \n",
      "    bins : int or sequence or str, default: :rc:`hist.bins`\n",
      "        If *bins* is an integer, it defines the number of equal-width bins\n",
      "        in the range.\n",
      "    \n",
      "        If *bins* is a sequence, it defines the bin edges, including the\n",
      "        left edge of the first bin and the right edge of the last bin;\n",
      "        in this case, bins may be unequally spaced.  All but the last\n",
      "        (righthand-most) bin is half-open.  In other words, if *bins* is::\n",
      "    \n",
      "            [1, 2, 3, 4]\n",
      "    \n",
      "        then the first bin is ``[1, 2)`` (including 1, but excluding 2) and\n",
      "        the second ``[2, 3)``.  The last bin, however, is ``[3, 4]``, which\n",
      "        *includes* 4.\n",
      "    \n",
      "        If *bins* is a string, it is one of the binning strategies\n",
      "        supported by `numpy.histogram_bin_edges`: 'auto', 'fd', 'doane',\n",
      "        'scott', 'stone', 'rice', 'sturges', or 'sqrt'.\n",
      "    \n",
      "    range : tuple or None, default: None\n",
      "        The lower and upper range of the bins. Lower and upper outliers\n",
      "        are ignored. If not provided, *range* is ``(x.min(), x.max())``.\n",
      "        Range has no effect if *bins* is a sequence.\n",
      "    \n",
      "        If *bins* is a sequence or *range* is specified, autoscaling\n",
      "        is based on the specified bin range instead of the\n",
      "        range of x.\n",
      "    \n",
      "    density : bool, default: False\n",
      "        If ``True``, draw and return a probability density: each bin\n",
      "        will display the bin's raw count divided by the total number of\n",
      "        counts *and the bin width*\n",
      "        (``density = counts / (sum(counts) * np.diff(bins))``),\n",
      "        so that the area under the histogram integrates to 1\n",
      "        (``np.sum(density * np.diff(bins)) == 1``).\n",
      "    \n",
      "        If *stacked* is also ``True``, the sum of the histograms is\n",
      "        normalized to 1.\n",
      "    \n",
      "    weights : (n,) array-like or None, default: None\n",
      "        An array of weights, of the same shape as *x*.  Each value in\n",
      "        *x* only contributes its associated weight towards the bin count\n",
      "        (instead of 1).  If *density* is ``True``, the weights are\n",
      "        normalized, so that the integral of the density over the range\n",
      "        remains 1.\n",
      "    \n",
      "    cumulative : bool or -1, default: False\n",
      "        If ``True``, then a histogram is computed where each bin gives the\n",
      "        counts in that bin plus all bins for smaller values. The last bin\n",
      "        gives the total number of datapoints.\n",
      "    \n",
      "        If *density* is also ``True`` then the histogram is normalized such\n",
      "        that the last bin equals 1.\n",
      "    \n",
      "        If *cumulative* is a number less than 0 (e.g., -1), the direction\n",
      "        of accumulation is reversed.  In this case, if *density* is also\n",
      "        ``True``, then the histogram is normalized such that the first bin\n",
      "        equals 1.\n",
      "    \n",
      "    bottom : array-like, scalar, or None, default: None\n",
      "        Location of the bottom of each bin, i.e. bins are drawn from\n",
      "        ``bottom`` to ``bottom + hist(x, bins)`` If a scalar, the bottom\n",
      "        of each bin is shifted by the same amount. If an array, each bin\n",
      "        is shifted independently and the length of bottom must match the\n",
      "        number of bins. If None, defaults to 0.\n",
      "    \n",
      "    histtype : {'bar', 'barstacked', 'step', 'stepfilled'}, default: 'bar'\n",
      "        The type of histogram to draw.\n",
      "    \n",
      "        - 'bar' is a traditional bar-type histogram.  If multiple data\n",
      "          are given the bars are arranged side by side.\n",
      "        - 'barstacked' is a bar-type histogram where multiple\n",
      "          data are stacked on top of each other.\n",
      "        - 'step' generates a lineplot that is by default unfilled.\n",
      "        - 'stepfilled' generates a lineplot that is by default filled.\n",
      "    \n",
      "    align : {'left', 'mid', 'right'}, default: 'mid'\n",
      "        The horizontal alignment of the histogram bars.\n",
      "    \n",
      "        - 'left': bars are centered on the left bin edges.\n",
      "        - 'mid': bars are centered between the bin edges.\n",
      "        - 'right': bars are centered on the right bin edges.\n",
      "    \n",
      "    orientation : {'vertical', 'horizontal'}, default: 'vertical'\n",
      "        If 'horizontal', `~.Axes.barh` will be used for bar-type histograms\n",
      "        and the *bottom* kwarg will be the left edges.\n",
      "    \n",
      "    rwidth : float or None, default: None\n",
      "        The relative width of the bars as a fraction of the bin width.  If\n",
      "        ``None``, automatically compute the width.\n",
      "    \n",
      "        Ignored if *histtype* is 'step' or 'stepfilled'.\n",
      "    \n",
      "    log : bool, default: False\n",
      "        If ``True``, the histogram axis will be set to a log scale.\n",
      "    \n",
      "    color : color or array-like of colors or None, default: None\n",
      "        Color or sequence of colors, one per dataset.  Default (``None``)\n",
      "        uses the standard line color sequence.\n",
      "    \n",
      "    label : str or None, default: None\n",
      "        String, or sequence of strings to match multiple datasets.  Bar\n",
      "        charts yield multiple patches per dataset, but only the first gets\n",
      "        the label, so that `~.Axes.legend` will work as expected.\n",
      "    \n",
      "    stacked : bool, default: False\n",
      "        If ``True``, multiple data are stacked on top of each other If\n",
      "        ``False`` multiple data are arranged side by side if histtype is\n",
      "        'bar' or on top of each other if histtype is 'step'\n",
      "    \n",
      "    Returns\n",
      "    -------\n",
      "    n : array or list of arrays\n",
      "        The values of the histogram bins. See *density* and *weights* for a\n",
      "        description of the possible semantics.  If input *x* is an array,\n",
      "        then this is an array of length *nbins*. If input is a sequence of\n",
      "        arrays ``[data1, data2, ...]``, then this is a list of arrays with\n",
      "        the values of the histograms for each of the arrays in the same\n",
      "        order.  The dtype of the array *n* (or of its element arrays) will\n",
      "        always be float even if no weighting or normalization is used.\n",
      "    \n",
      "    bins : array\n",
      "        The edges of the bins. Length nbins + 1 (nbins left edges and right\n",
      "        edge of last bin).  Always a single array even when multiple data\n",
      "        sets are passed in.\n",
      "    \n",
      "    patches : `.BarContainer` or list of a single `.Polygon` or list of such objects\n",
      "        Container of individual artists used to create the histogram\n",
      "        or list of such containers if there are multiple input datasets.\n",
      "    \n",
      "    Other Parameters\n",
      "    ----------------\n",
      "    data : indexable object, optional\n",
      "        If given, the following parameters also accept a string ``s``, which is\n",
      "        interpreted as ``data[s]`` (unless this raises an exception):\n",
      "    \n",
      "        *x*, *weights*\n",
      "    \n",
      "    **kwargs\n",
      "        `~matplotlib.patches.Patch` properties\n",
      "    \n",
      "    See Also\n",
      "    --------\n",
      "    hist2d : 2D histogram with rectangular bins\n",
      "    hexbin : 2D histogram with hexagonal bins\n",
      "    stairs : Plot a pre-computed histogram\n",
      "    bar : Plot a pre-computed histogram\n",
      "    \n",
      "    Notes\n",
      "    -----\n",
      "    For large numbers of bins (>1000), plotting can be significantly\n",
      "    accelerated by using `~.Axes.stairs` to plot a pre-computed histogram\n",
      "    (``plt.stairs(*np.histogram(data))``), or by setting *histtype* to\n",
      "    'step' or 'stepfilled' rather than 'bar' or 'barstacked'.\n",
      "\n"
     ]
    }
   ],
   "source": [
    "help(plt.hist)"
   ]
  },
  {
   "cell_type": "markdown",
   "metadata": {
    "id": "cfT_iKnKW4K0"
   },
   "source": [
    "**9. Create separate boxplots of height and weight**"
   ]
  },
  {
   "cell_type": "code",
   "execution_count": 12,
   "metadata": {
    "colab": {
     "base_uri": "https://localhost:8080/",
     "height": 3222
    },
    "executionInfo": {
     "elapsed": 851,
     "status": "ok",
     "timestamp": 1552620003646,
     "user": {
      "displayName": "",
      "photoUrl": "",
      "userId": ""
     },
     "user_tz": -660
    },
    "id": "PZbswA3fXQSL",
    "outputId": "2256b909-9b78-4e08-bc33-40d5aa2926af"
   },
   "outputs": [
    {
     "name": "stdout",
     "output_type": "stream",
     "text": [
      "Help on function boxplot in module matplotlib.pyplot:\n",
      "\n",
      "boxplot(x, notch=None, sym=None, vert=None, whis=None, positions=None, widths=None, patch_artist=None, bootstrap=None, usermedians=None, conf_intervals=None, meanline=None, showmeans=None, showcaps=None, showbox=None, showfliers=None, boxprops=None, labels=None, flierprops=None, medianprops=None, meanprops=None, capprops=None, whiskerprops=None, manage_ticks=True, autorange=False, zorder=None, capwidths=None, *, data=None)\n",
      "    Draw a box and whisker plot.\n",
      "    \n",
      "    The box extends from the first quartile (Q1) to the third\n",
      "    quartile (Q3) of the data, with a line at the median.  The\n",
      "    whiskers extend from the box by 1.5x the inter-quartile range\n",
      "    (IQR).  Flier points are those past the end of the whiskers.\n",
      "    See https://en.wikipedia.org/wiki/Box_plot for reference.\n",
      "    \n",
      "    .. code-block:: none\n",
      "    \n",
      "              Q1-1.5IQR   Q1   median  Q3   Q3+1.5IQR\n",
      "                           |-----:-----|\n",
      "           o      |--------|     :     |--------|    o  o\n",
      "                           |-----:-----|\n",
      "         flier             <----------->            fliers\n",
      "                                IQR\n",
      "    \n",
      "    \n",
      "    Parameters\n",
      "    ----------\n",
      "    x : Array or a sequence of vectors.\n",
      "        The input data.  If a 2D array, a boxplot is drawn for each column\n",
      "        in *x*.  If a sequence of 1D arrays, a boxplot is drawn for each\n",
      "        array in *x*.\n",
      "    \n",
      "    notch : bool, default: False\n",
      "        Whether to draw a notched boxplot (`True`), or a rectangular\n",
      "        boxplot (`False`).  The notches represent the confidence interval\n",
      "        (CI) around the median.  The documentation for *bootstrap*\n",
      "        describes how the locations of the notches are computed by\n",
      "        default, but their locations may also be overridden by setting the\n",
      "        *conf_intervals* parameter.\n",
      "    \n",
      "        .. note::\n",
      "    \n",
      "            In cases where the values of the CI are less than the\n",
      "            lower quartile or greater than the upper quartile, the\n",
      "            notches will extend beyond the box, giving it a\n",
      "            distinctive \"flipped\" appearance. This is expected\n",
      "            behavior and consistent with other statistical\n",
      "            visualization packages.\n",
      "    \n",
      "    sym : str, optional\n",
      "        The default symbol for flier points.  An empty string ('') hides\n",
      "        the fliers.  If `None`, then the fliers default to 'b+'.  More\n",
      "        control is provided by the *flierprops* parameter.\n",
      "    \n",
      "    vert : bool, default: True\n",
      "        If `True`, draws vertical boxes.\n",
      "        If `False`, draw horizontal boxes.\n",
      "    \n",
      "    whis : float or (float, float), default: 1.5\n",
      "        The position of the whiskers.\n",
      "    \n",
      "        If a float, the lower whisker is at the lowest datum above\n",
      "        ``Q1 - whis*(Q3-Q1)``, and the upper whisker at the highest datum\n",
      "        below ``Q3 + whis*(Q3-Q1)``, where Q1 and Q3 are the first and\n",
      "        third quartiles.  The default value of ``whis = 1.5`` corresponds\n",
      "        to Tukey's original definition of boxplots.\n",
      "    \n",
      "        If a pair of floats, they indicate the percentiles at which to\n",
      "        draw the whiskers (e.g., (5, 95)).  In particular, setting this to\n",
      "        (0, 100) results in whiskers covering the whole range of the data.\n",
      "    \n",
      "        In the edge case where ``Q1 == Q3``, *whis* is automatically set\n",
      "        to (0, 100) (cover the whole range of the data) if *autorange* is\n",
      "        True.\n",
      "    \n",
      "        Beyond the whiskers, data are considered outliers and are plotted\n",
      "        as individual points.\n",
      "    \n",
      "    bootstrap : int, optional\n",
      "        Specifies whether to bootstrap the confidence intervals\n",
      "        around the median for notched boxplots. If *bootstrap* is\n",
      "        None, no bootstrapping is performed, and notches are\n",
      "        calculated using a Gaussian-based asymptotic approximation\n",
      "        (see McGill, R., Tukey, J.W., and Larsen, W.A., 1978, and\n",
      "        Kendall and Stuart, 1967). Otherwise, bootstrap specifies\n",
      "        the number of times to bootstrap the median to determine its\n",
      "        95% confidence intervals. Values between 1000 and 10000 are\n",
      "        recommended.\n",
      "    \n",
      "    usermedians : 1D array-like, optional\n",
      "        A 1D array-like of length ``len(x)``.  Each entry that is not\n",
      "        `None` forces the value of the median for the corresponding\n",
      "        dataset.  For entries that are `None`, the medians are computed\n",
      "        by Matplotlib as normal.\n",
      "    \n",
      "    conf_intervals : array-like, optional\n",
      "        A 2D array-like of shape ``(len(x), 2)``.  Each entry that is not\n",
      "        None forces the location of the corresponding notch (which is\n",
      "        only drawn if *notch* is `True`).  For entries that are `None`,\n",
      "        the notches are computed by the method specified by the other\n",
      "        parameters (e.g., *bootstrap*).\n",
      "    \n",
      "    positions : array-like, optional\n",
      "        The positions of the boxes. The ticks and limits are\n",
      "        automatically set to match the positions. Defaults to\n",
      "        ``range(1, N+1)`` where N is the number of boxes to be drawn.\n",
      "    \n",
      "    widths : float or array-like\n",
      "        The widths of the boxes.  The default is 0.5, or ``0.15*(distance\n",
      "        between extreme positions)``, if that is smaller.\n",
      "    \n",
      "    patch_artist : bool, default: False\n",
      "        If `False` produces boxes with the Line2D artist. Otherwise,\n",
      "        boxes are drawn with Patch artists.\n",
      "    \n",
      "    labels : sequence, optional\n",
      "        Labels for each dataset (one per dataset).\n",
      "    \n",
      "    manage_ticks : bool, default: True\n",
      "        If True, the tick locations and labels will be adjusted to match\n",
      "        the boxplot positions.\n",
      "    \n",
      "    autorange : bool, default: False\n",
      "        When `True` and the data are distributed such that the 25th and\n",
      "        75th percentiles are equal, *whis* is set to (0, 100) such\n",
      "        that the whisker ends are at the minimum and maximum of the data.\n",
      "    \n",
      "    meanline : bool, default: False\n",
      "        If `True` (and *showmeans* is `True`), will try to render the\n",
      "        mean as a line spanning the full width of the box according to\n",
      "        *meanprops* (see below).  Not recommended if *shownotches* is also\n",
      "        True.  Otherwise, means will be shown as points.\n",
      "    \n",
      "    zorder : float, default: ``Line2D.zorder = 2``\n",
      "        The zorder of the boxplot.\n",
      "    \n",
      "    Returns\n",
      "    -------\n",
      "    dict\n",
      "      A dictionary mapping each component of the boxplot to a list\n",
      "      of the `.Line2D` instances created. That dictionary has the\n",
      "      following keys (assuming vertical boxplots):\n",
      "    \n",
      "      - ``boxes``: the main body of the boxplot showing the\n",
      "        quartiles and the median's confidence intervals if\n",
      "        enabled.\n",
      "    \n",
      "      - ``medians``: horizontal lines at the median of each box.\n",
      "    \n",
      "      - ``whiskers``: the vertical lines extending to the most\n",
      "        extreme, non-outlier data points.\n",
      "    \n",
      "      - ``caps``: the horizontal lines at the ends of the\n",
      "        whiskers.\n",
      "    \n",
      "      - ``fliers``: points representing data that extend beyond\n",
      "        the whiskers (fliers).\n",
      "    \n",
      "      - ``means``: points or lines representing the means.\n",
      "    \n",
      "    Other Parameters\n",
      "    ----------------\n",
      "    showcaps : bool, default: True\n",
      "        Show the caps on the ends of whiskers.\n",
      "    showbox : bool, default: True\n",
      "        Show the central box.\n",
      "    showfliers : bool, default: True\n",
      "        Show the outliers beyond the caps.\n",
      "    showmeans : bool, default: False\n",
      "        Show the arithmetic means.\n",
      "    capprops : dict, default: None\n",
      "        The style of the caps.\n",
      "    capwidths : float or array, default: None\n",
      "        The widths of the caps.\n",
      "    boxprops : dict, default: None\n",
      "        The style of the box.\n",
      "    whiskerprops : dict, default: None\n",
      "        The style of the whiskers.\n",
      "    flierprops : dict, default: None\n",
      "        The style of the fliers.\n",
      "    medianprops : dict, default: None\n",
      "        The style of the median.\n",
      "    meanprops : dict, default: None\n",
      "        The style of the mean.\n",
      "    data : indexable object, optional\n",
      "        If given, all parameters also accept a string ``s``, which is\n",
      "        interpreted as ``data[s]`` (unless this raises an exception).\n",
      "    \n",
      "    See Also\n",
      "    --------\n",
      "    violinplot : Draw an estimate of the probability density function.\n",
      "\n"
     ]
    }
   ],
   "source": [
    "help(plt.boxplot)"
   ]
  },
  {
   "cell_type": "markdown",
   "metadata": {
    "id": "b-6Hr9dSXD2L"
   },
   "source": [
    "**10. Create a scatterplot of height and weight**"
   ]
  },
  {
   "cell_type": "code",
   "execution_count": 13,
   "metadata": {
    "colab": {
     "base_uri": "https://localhost:8080/",
     "height": 2029
    },
    "executionInfo": {
     "elapsed": 726,
     "status": "ok",
     "timestamp": 1552620019954,
     "user": {
      "displayName": "",
      "photoUrl": "",
      "userId": ""
     },
     "user_tz": -660
    },
    "id": "S3l7S_qBXUT2",
    "outputId": "1a4753f4-e695-484f-9469-4eb5ff2ceafe"
   },
   "outputs": [
    {
     "name": "stdout",
     "output_type": "stream",
     "text": [
      "Help on function scatter in module matplotlib.pyplot:\n",
      "\n",
      "scatter(x, y, s=None, c=None, marker=None, cmap=None, norm=None, vmin=None, vmax=None, alpha=None, linewidths=None, *, edgecolors=None, plotnonfinite=False, data=None, **kwargs)\n",
      "    A scatter plot of *y* vs. *x* with varying marker size and/or color.\n",
      "    \n",
      "    Parameters\n",
      "    ----------\n",
      "    x, y : float or array-like, shape (n, )\n",
      "        The data positions.\n",
      "    \n",
      "    s : float or array-like, shape (n, ), optional\n",
      "        The marker size in points**2 (typographic points are 1/72 in.).\n",
      "        Default is ``rcParams['lines.markersize'] ** 2``.\n",
      "    \n",
      "    c : array-like or list of colors or color, optional\n",
      "        The marker colors. Possible values:\n",
      "    \n",
      "        - A scalar or sequence of n numbers to be mapped to colors using\n",
      "          *cmap* and *norm*.\n",
      "        - A 2D array in which the rows are RGB or RGBA.\n",
      "        - A sequence of colors of length n.\n",
      "        - A single color format string.\n",
      "    \n",
      "        Note that *c* should not be a single numeric RGB or RGBA sequence\n",
      "        because that is indistinguishable from an array of values to be\n",
      "        colormapped. If you want to specify the same RGB or RGBA value for\n",
      "        all points, use a 2D array with a single row.  Otherwise,\n",
      "        value-matching will have precedence in case of a size matching with\n",
      "        *x* and *y*.\n",
      "    \n",
      "        If you wish to specify a single color for all points\n",
      "        prefer the *color* keyword argument.\n",
      "    \n",
      "        Defaults to `None`. In that case the marker color is determined\n",
      "        by the value of *color*, *facecolor* or *facecolors*. In case\n",
      "        those are not specified or `None`, the marker color is determined\n",
      "        by the next color of the ``Axes``' current \"shape and fill\" color\n",
      "        cycle. This cycle defaults to :rc:`axes.prop_cycle`.\n",
      "    \n",
      "    marker : `~.markers.MarkerStyle`, default: :rc:`scatter.marker`\n",
      "        The marker style. *marker* can be either an instance of the class\n",
      "        or the text shorthand for a particular marker.\n",
      "        See :mod:`matplotlib.markers` for more information about marker\n",
      "        styles.\n",
      "    \n",
      "    cmap : str or `~matplotlib.colors.Colormap`, default: :rc:`image.cmap`\n",
      "        The Colormap instance or registered colormap name used to map scalar data\n",
      "        to colors.\n",
      "    \n",
      "        This parameter is ignored if *c* is RGB(A).\n",
      "    \n",
      "    norm : str or `~matplotlib.colors.Normalize`, optional\n",
      "        The normalization method used to scale scalar data to the [0, 1] range\n",
      "        before mapping to colors using *cmap*. By default, a linear scaling is\n",
      "        used, mapping the lowest value to 0 and the highest to 1.\n",
      "    \n",
      "        If given, this can be one of the following:\n",
      "    \n",
      "        - An instance of `.Normalize` or one of its subclasses\n",
      "          (see :doc:`/tutorials/colors/colormapnorms`).\n",
      "        - A scale name, i.e. one of \"linear\", \"log\", \"symlog\", \"logit\", etc.  For a\n",
      "          list of available scales, call `matplotlib.scale.get_scale_names()`.\n",
      "          In that case, a suitable `.Normalize` subclass is dynamically generated\n",
      "          and instantiated.\n",
      "    \n",
      "        This parameter is ignored if *c* is RGB(A).\n",
      "    \n",
      "    vmin, vmax : float, optional\n",
      "        When using scalar data and no explicit *norm*, *vmin* and *vmax* define\n",
      "        the data range that the colormap covers. By default, the colormap covers\n",
      "        the complete value range of the supplied data. It is an error to use\n",
      "        *vmin*/*vmax* when a *norm* instance is given (but using a `str` *norm*\n",
      "        name together with *vmin*/*vmax* is acceptable).\n",
      "    \n",
      "        This parameter is ignored if *c* is RGB(A).\n",
      "    \n",
      "    alpha : float, default: None\n",
      "        The alpha blending value, between 0 (transparent) and 1 (opaque).\n",
      "    \n",
      "    linewidths : float or array-like, default: :rc:`lines.linewidth`\n",
      "        The linewidth of the marker edges. Note: The default *edgecolors*\n",
      "        is 'face'. You may want to change this as well.\n",
      "    \n",
      "    edgecolors : {'face', 'none', *None*} or color or sequence of color, default: :rc:`scatter.edgecolors`\n",
      "        The edge color of the marker. Possible values:\n",
      "    \n",
      "        - 'face': The edge color will always be the same as the face color.\n",
      "        - 'none': No patch boundary will be drawn.\n",
      "        - A color or sequence of colors.\n",
      "    \n",
      "        For non-filled markers, *edgecolors* is ignored. Instead, the color\n",
      "        is determined like with 'face', i.e. from *c*, *colors*, or\n",
      "        *facecolors*.\n",
      "    \n",
      "    plotnonfinite : bool, default: False\n",
      "        Whether to plot points with nonfinite *c* (i.e. ``inf``, ``-inf``\n",
      "        or ``nan``). If ``True`` the points are drawn with the *bad*\n",
      "        colormap color (see `.Colormap.set_bad`).\n",
      "    \n",
      "    Returns\n",
      "    -------\n",
      "    `~matplotlib.collections.PathCollection`\n",
      "    \n",
      "    Other Parameters\n",
      "    ----------------\n",
      "    data : indexable object, optional\n",
      "        If given, the following parameters also accept a string ``s``, which is\n",
      "        interpreted as ``data[s]`` (unless this raises an exception):\n",
      "    \n",
      "        *x*, *y*, *s*, *linewidths*, *edgecolors*, *c*, *facecolor*, *facecolors*, *color*\n",
      "    **kwargs : `~matplotlib.collections.Collection` properties\n",
      "    \n",
      "    See Also\n",
      "    --------\n",
      "    plot : To plot scatter plots when markers are identical in size and\n",
      "        color.\n",
      "    \n",
      "    Notes\n",
      "    -----\n",
      "    * The `.plot` function will be faster for scatterplots where markers\n",
      "      don't vary in size or color.\n",
      "    \n",
      "    * Any or all of *x*, *y*, *s*, and *c* may be masked arrays, in which\n",
      "      case all masks will be combined and only unmasked points will be\n",
      "      plotted.\n",
      "    \n",
      "    * Fundamentally, scatter works with 1D arrays; *x*, *y*, *s*, and *c*\n",
      "      may be input as N-D arrays, but within scatter they will be\n",
      "      flattened. The exception is *c*, which will be flattened only if its\n",
      "      size matches the size of *x* and *y*.\n",
      "\n"
     ]
    }
   ],
   "source": [
    "help(plt.scatter)"
   ]
  },
  {
   "cell_type": "markdown",
   "metadata": {
    "id": "uwAr9EqbpZwg"
   },
   "source": [
    "\n",
    "\n",
    "---\n",
    "\n",
    "\n",
    "\n",
    "---\n",
    "\n",
    "\n",
    "\n",
    "> > > > > > > > > © 2023 Institute of Data\n",
    "\n",
    "\n",
    "---\n",
    "\n",
    "\n",
    "\n",
    "---\n",
    "\n",
    "\n",
    "\n"
   ]
  },
  {
   "cell_type": "code",
   "execution_count": 14,
   "metadata": {
    "tags": []
   },
   "outputs": [
    {
     "data": {
      "image/png": "[encoded data removed]",
      "text/plain": [
       "<Figure size 640x480 with 1 Axes>"
      ]
     },
     "metadata": {},
     "output_type": "display_data"
    }
   ],
   "source": [
    "num_bins = 50\n",
    "n,bins, patches = plt.hist(weight,num_bins,facecolor = 'red' ,alpha = 1)\n",
    "plt.show()\n"
   ]
  },
  {
   "cell_type": "code",
   "execution_count": null,
   "metadata": {},
   "outputs": [],
   "source": []
  },
  {
   "cell_type": "code",
   "execution_count": null,
   "metadata": {},
   "outputs": [],
   "source": []
  }
 ],
 "metadata": {
  "colab": {
   "provenance": [
    {
     "file_id": "https://github.com/ikfaisal/dsia/blob/master/Numpy01.ipynb",
     "timestamp": 1552620043198
    }
   ]
  },
  "kernelspec": {
   "display_name": "Python 3 (ipykernel)",
   "language": "python",
   "name": "python3"
  },
  "language_info": {
   "codemirror_mode": {
    "name": "ipython",
    "version": 3
   },
   "file_extension": ".py",
   "mimetype": "text/x-python",
   "name": "python",
   "nbconvert_exporter": "python",
   "pygments_lexer": "ipython3",
   "version": "3.11.5"
  }
 },
 "nbformat": 4,
 "nbformat_minor": 4
}
