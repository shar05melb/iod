{
 "cells": [
  {
   "cell_type": "markdown",
   "metadata": {
    "id": "7KeNKtNL2Ix-"
   },
   "source": [
    "<div>\n",
    "<img src=https://www.institutedata.com/wp-content/uploads/2019/10/iod_h_tp_primary_c.svg width=\"300\">\n",
    "</div>\n",
    "\n",
    "# Python - Lab 1"
   ]
  },
  {
   "cell_type": "code",
   "execution_count": 3,
   "metadata": {
    "colab": {
     "base_uri": "https://localhost:8080/"
    },
    "executionInfo": {
     "elapsed": 322,
     "status": "ok",
     "timestamp": 1692174487273,
     "user": {
      "displayName": "Gaio Bardelle",
      "userId": "06007511880601897268"
     },
     "user_tz": -720
    },
    "id": "vx15E0cKQZhm",
    "outputId": "3385cb9f-2a83-42c2-b68e-5de985d3aaff",
    "tags": []
   },
   "outputs": [
    {
     "name": "stdout",
     "output_type": "stream",
     "text": [
      "Student list: ['Alice', 'Bob', 'Pradeep', 'Jasmine', 'Joseph', 'Aris', 'Yana', 'Jane', 'Emily', 'Antoni']\n"
     ]
    }
   ],
   "source": [
    "# print the student list\n",
    "# create a list of students' names\n",
    "students = ['Alice', 'Bob', 'Pradeep', 'Jasmine', 'Joseph', 'Aris', 'Yana', 'Jane', 'Emily', 'Antoni']\n",
    "print(f'Student list: {students}')"
   ]
  },
  {
   "cell_type": "code",
   "execution_count": 4,
   "metadata": {
    "colab": {
     "base_uri": "https://localhost:8080/"
    },
    "executionInfo": {
     "elapsed": 12,
     "status": "ok",
     "timestamp": 1692174487649,
     "user": {
      "displayName": "Gaio Bardelle",
      "userId": "06007511880601897268"
     },
     "user_tz": -720
    },
    "id": "dsdmPwNrQOtL",
    "outputId": "9ce8c85d-cce0-463a-b226-a9829923769e",
    "tags": []
   },
   "outputs": [
    {
     "name": "stdout",
     "output_type": "stream",
     "text": [
      "####################\n",
      "The type of variable a: 700\n"
     ]
    }
   ],
   "source": [
    "# this is a comment\n",
    "a = 100\n",
    "a = a + 200\n",
    "print(f\"{20*'#'}\")\n",
    "print (f\"The type of variable a: {a+400}\")"
   ]
  },
  {
   "cell_type": "code",
   "execution_count": 5,
   "metadata": {
    "colab": {
     "base_uri": "https://localhost:8080/"
    },
    "executionInfo": {
     "elapsed": 12,
     "status": "ok",
     "timestamp": 1692174487650,
     "user": {
      "displayName": "Gaio Bardelle",
      "userId": "06007511880601897268"
     },
     "user_tz": -720
    },
    "id": "LtbLA_T811kr",
    "outputId": "9b00401c-78f8-44fb-8cf8-cc7534ae8f6d",
    "tags": []
   },
   "outputs": [
    {
     "name": "stdout",
     "output_type": "stream",
     "text": [
      "Index 01 \t Alice\n",
      "Index 02 \t Bob\n",
      "Index 03 \t Pradeep\n",
      "Index 04 \t Jasmine\n",
      "Index 05 \t Joseph\n",
      "Index 06 \t Aris\n",
      "Index 07 \t Yana\n",
      "Index 08 \t Jane\n",
      "Index 09 \t Emily\n",
      "Index 10 \t Antoni\n"
     ]
    }
   ],
   "source": [
    "# print the list of students one student in a line with its index\n",
    "for i, student in enumerate(students):\n",
    "    print(f'Index {i+1:02d} \\t {student}')"
   ]
  },
  {
   "cell_type": "code",
   "execution_count": 6,
   "metadata": {
    "colab": {
     "base_uri": "https://localhost:8080/"
    },
    "executionInfo": {
     "elapsed": 10,
     "status": "ok",
     "timestamp": 1692174487650,
     "user": {
      "displayName": "Gaio Bardelle",
      "userId": "06007511880601897268"
     },
     "user_tz": -720
    },
    "id": "1hQ46zvYQ3u3",
    "outputId": "76fa4417-26b7-466f-eaaf-b1038718f979",
    "tags": []
   },
   "outputs": [
    {
     "name": "stdout",
     "output_type": "stream",
     "text": [
      "Index 01 \t Antoni\n",
      "Index 02 \t Emily\n",
      "Index 03 \t Jane\n",
      "Index 04 \t Yana\n",
      "Index 05 \t Aris\n",
      "Index 06 \t Joseph\n",
      "Index 07 \t Jasmine\n",
      "Index 08 \t Pradeep\n",
      "Index 09 \t Bob\n",
      "Index 10 \t Alice\n"
     ]
    }
   ],
   "source": [
    "# print the list of students in reverse order one student in a line with its index\n",
    "students_reversed = students.copy()\n",
    "students_reversed.reverse()\n",
    "for i, student in enumerate(students_reversed):\n",
    "    print(f'Index {i+1:02d} \\t {student}')"
   ]
  },
  {
   "cell_type": "code",
   "execution_count": 8,
   "metadata": {
    "executionInfo": {
     "elapsed": 8,
     "status": "ok",
     "timestamp": 1692174487650,
     "user": {
      "displayName": "Gaio Bardelle",
      "userId": "06007511880601897268"
     },
     "user_tz": -720
    },
    "id": "UHH0NxIaQg3g"
   },
   "outputs": [],
   "source": [
    "# print the student list in random order\n",
    "# hint look up the function random.sample\n"
   ]
  },
  {
   "cell_type": "code",
   "execution_count": 7,
   "metadata": {
    "colab": {
     "base_uri": "https://localhost:8080/"
    },
    "executionInfo": {
     "elapsed": 9,
     "status": "ok",
     "timestamp": 1692174487651,
     "user": {
      "displayName": "Gaio Bardelle",
      "userId": "06007511880601897268"
     },
     "user_tz": -720
    },
    "id": "vxCxb9z3Vuxy",
    "outputId": "0ff818eb-0e96-4cb8-83fc-3a7590d3815e",
    "tags": []
   },
   "outputs": [
    {
     "name": "stdout",
     "output_type": "stream",
     "text": [
      "Students and their marks: \n",
      " {'Alice': 87, 'Bob': 45, 'Pradeep': 76, 'Jasmine': 64, 'Joseph': 66, 'Aris': 90, 'Yana': 55, 'Jane': 73, 'Emily': 69, 'Antoni': 75}\n",
      "Aris      :90\n",
      "Alice     :87\n",
      "Pradeep   :76\n",
      "Antoni    :75\n",
      "Jane      :73\n",
      "Emily     :69\n",
      "Joseph    :66\n",
      "Jasmine   :64\n",
      "Yana      :55\n",
      "Bob       :45\n",
      "Bob 45\n",
      "\n",
      "<built-in method get of dict object at 0x0000020425091DC0>\n"
     ]
    }
   ],
   "source": [
    "# list students in order of their exam marks in the following list\n",
    "marks = [87,45,76,64,66,90,55,73,69,75]\n",
    "studentsAndMarks = dict(zip(students, marks))\n",
    "\n",
    "def value_getter(item):\n",
    "  return item[0]\n",
    "\n",
    "print(f\"Students and their marks: \\n {studentsAndMarks}\")\n",
    "for student in sorted(studentsAndMarks, key=studentsAndMarks.get, reverse=True ):\n",
    "  print(f\"{student:10s}:{studentsAndMarks[student]}\")\n",
    "\n",
    "print(student , studentsAndMarks[student])\n",
    "print()\n",
    "print(studentsAndMarks.get)"
   ]
  },
  {
   "cell_type": "code",
   "execution_count": 9,
   "metadata": {
    "executionInfo": {
     "elapsed": 7,
     "status": "ok",
     "timestamp": 1692174487651,
     "user": {
      "displayName": "Gaio Bardelle",
      "userId": "06007511880601897268"
     },
     "user_tz": -720
    },
    "id": "Sp0Ds9_VZxpK"
   },
   "outputs": [],
   "source": []
  },
  {
   "cell_type": "code",
   "execution_count": 8,
   "metadata": {
    "colab": {
     "base_uri": "https://localhost:8080/"
    },
    "executionInfo": {
     "elapsed": 7,
     "status": "ok",
     "timestamp": 1692174487651,
     "user": {
      "displayName": "Gaio Bardelle",
      "userId": "06007511880601897268"
     },
     "user_tz": -720
    },
    "id": "yg0-sgwzHP8z",
    "outputId": "6c5e8ea0-89cd-4f46-a17a-9546d9ba3954",
    "tags": []
   },
   "outputs": [
    {
     "name": "stdout",
     "output_type": "stream",
     "text": [
      "Aris      :90\n",
      "Alice     :87\n",
      "Pradeep   :76\n",
      "Antoni    :75\n",
      "Jane      :73\n",
      "Emily     :69\n",
      "Joseph    :66\n",
      "Jasmine   :64\n"
     ]
    }
   ],
   "source": [
    "# Extension: Keep only students who have a mark above 60\n",
    "\n",
    "studentsAbove60 = dict()\n",
    "\n",
    "for student in studentsAndMarks.keys():\n",
    "    if studentsAndMarks[student] > 60:\n",
    "        studentsAbove60[student] = studentsAndMarks[student]\n",
    "\n",
    "for student in sorted(studentsAbove60, key=studentsAbove60.get, reverse=True):\n",
    "  print(f\"{student:10s}:{studentsAbove60[student]}\")"
   ]
  },
  {
   "cell_type": "markdown",
   "metadata": {
    "id": "yZeL5cW6zM7b"
   },
   "source": [
    "\n",
    "\n",
    "---\n",
    "\n",
    "\n",
    "\n",
    "---\n",
    "\n",
    "\n",
    "\n",
    "> > > > > > > > > © 2023 Institute of Data\n",
    "\n",
    "\n",
    "---\n",
    "\n",
    "\n",
    "\n",
    "---\n",
    "\n",
    "\n",
    "\n"
   ]
  }
 ],
 "metadata": {
  "colab": {
   "provenance": []
  },
  "kernelspec": {
   "display_name": "Python 3 (ipykernel)",
   "language": "python",
   "name": "python3"
  },
  "language_info": {
   "codemirror_mode": {
    "name": "ipython",
    "version": 3
   },
   "file_extension": ".py",
   "mimetype": "text/x-python",
   "name": "python",
   "nbconvert_exporter": "python",
   "pygments_lexer": "ipython3",
   "version": "3.11.5"
  }
 },
 "nbformat": 4,
 "nbformat_minor": 4
}
