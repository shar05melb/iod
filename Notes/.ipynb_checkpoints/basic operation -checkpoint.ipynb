{
 "cells": [
  {
   "cell_type": "code",
   "execution_count": null,
   "id": "53495b45",
   "metadata": {},
   "outputs": [],
   "source": []
  },
  {
   "cell_type": "markdown",
   "id": "e9ca7198-8e23-45ec-a53a-a8df6e379379",
   "metadata": {},
   "source": [
    "Week 1:Basic Arithmetic "
   ]
  },
  {
   "cell_type": "code",
   "execution_count": 1,
   "id": "8e3a2786-95fb-457f-a119-80cd48fb588f",
   "metadata": {
    "tags": []
   },
   "outputs": [
    {
     "data": {
      "text/plain": [
       "31"
      ]
     },
     "execution_count": 1,
     "metadata": {},
     "output_type": "execute_result"
    }
   ],
   "source": [
    "# Addition\n",
    "24 + 7"
   ]
  },
  {
   "cell_type": "code",
   "execution_count": 2,
   "id": "00cd6a51-2219-41ea-8ab2-0c5bb10d50e5",
   "metadata": {
    "tags": []
   },
   "outputs": [
    {
     "data": {
      "text/plain": [
       "40"
      ]
     },
     "execution_count": 2,
     "metadata": {},
     "output_type": "execute_result"
    }
   ],
   "source": [
    "# Subraction\n",
    "45-5"
   ]
  },
  {
   "cell_type": "code",
   "execution_count": 3,
   "id": "b819e436-e714-42ee-980d-8d6229052305",
   "metadata": {
    "tags": []
   },
   "outputs": [
    {
     "data": {
      "text/plain": [
       "66"
      ]
     },
     "execution_count": 3,
     "metadata": {},
     "output_type": "execute_result"
    }
   ],
   "source": [
    "# Multiplication\n",
    "6* 11"
   ]
  },
  {
   "cell_type": "code",
   "execution_count": 4,
   "id": "64443a07-556d-4a47-8d17-5471673a7ea7",
   "metadata": {
    "tags": []
   },
   "outputs": [
    {
     "data": {
      "text/plain": [
       "1.25"
      ]
     },
     "execution_count": 4,
     "metadata": {},
     "output_type": "execute_result"
    }
   ],
   "source": [
    "# division\n",
    "5/4"
   ]
  },
  {
   "cell_type": "code",
   "execution_count": 7,
   "id": "8c0ec697-3eea-4f98-aa87-0dc129ed80c2",
   "metadata": {
    "tags": []
   },
   "outputs": [
    {
     "data": {
      "text/plain": [
       "2"
      ]
     },
     "execution_count": 7,
     "metadata": {},
     "output_type": "execute_result"
    }
   ],
   "source": [
    "#modulo\n",
    "14%6"
   ]
  },
  {
   "cell_type": "code",
   "execution_count": 8,
   "id": "cdaeb680-4919-4e24-af5a-80a372bc3dc8",
   "metadata": {
    "tags": []
   },
   "outputs": [
    {
     "data": {
      "text/plain": [
       "4"
      ]
     },
     "execution_count": 8,
     "metadata": {},
     "output_type": "execute_result"
    }
   ],
   "source": [
    "#power \n",
    "2**2\n"
   ]
  },
  {
   "cell_type": "code",
   "execution_count": 9,
   "id": "ba390717-aa14-4632-ab7a-c6f5c925ef9b",
   "metadata": {
    "tags": []
   },
   "outputs": [
    {
     "data": {
      "text/plain": [
       "2.23606797749979"
      ]
     },
     "execution_count": 9,
     "metadata": {},
     "output_type": "execute_result"
    }
   ],
   "source": [
    "# square root \n",
    "5** 0.5\n"
   ]
  },
  {
   "cell_type": "code",
   "execution_count": 10,
   "id": "c73656f3-5b8f-4c40-a84a-0d0ea196861f",
   "metadata": {
    "tags": []
   },
   "outputs": [
    {
     "data": {
      "text/plain": [
       "2"
      ]
     },
     "execution_count": 10,
     "metadata": {},
     "output_type": "execute_result"
    }
   ],
   "source": [
    "#round\n",
    "round(5**0.5)\n"
   ]
  },
  {
   "cell_type": "code",
   "execution_count": 11,
   "id": "dbc9ec80-c1ac-4bd6-bd06-dff03918998e",
   "metadata": {
    "tags": []
   },
   "outputs": [
    {
     "data": {
      "text/plain": [
       "2.236"
      ]
     },
     "execution_count": 11,
     "metadata": {},
     "output_type": "execute_result"
    }
   ],
   "source": [
    "# round up to n digits \n",
    "round (5**0.5, 3) # 3 decimal point "
   ]
  },
  {
   "cell_type": "code",
   "execution_count": null,
   "id": "130378bb-2643-4d55-a126-ed1eb926be08",
   "metadata": {},
   "outputs": [],
   "source": [
    "Variables : "
   ]
  },
  {
   "cell_type": "markdown",
   "id": "fcee4487-20b1-425f-b139-036d5577a1e8",
   "metadata": {},
   "source": [
    "Data Type :\n",
    "\n",
    "1) int - whole number\n",
    "2) float  - decimal number\n",
    "3) strings - array of characters  e.i \"hello\"\n",
    "4) char - single character e.i 'Q'\n",
    "5) bool - boolean true or false \n",
    "6) dict - for dictionary \n",
    "7) list - "
   ]
  },
  {
   "cell_type": "code",
   "execution_count": 20,
   "id": "a97c1eef-c584-4a1f-9303-1f76722ca63b",
   "metadata": {
    "scrolled": true,
    "tags": []
   },
   "outputs": [
    {
     "name": "stdout",
     "output_type": "stream",
     "text": [
      "hello\n",
      "\n",
      "\n",
      "Nai, Garcia\n"
     ]
    }
   ],
   "source": [
    "#  \\n - new line \n",
    "\n",
    "print( \"hello\")\n",
    "print ('\\n')\n",
    "print(\"Nai\"', '\"Garcia\")\n",
    "\n"
   ]
  },
  {
   "cell_type": "code",
   "execution_count": 1,
   "id": "ecfeadd5-988c-4958-a167-b31b3b822317",
   "metadata": {},
   "outputs": [],
   "source": [
    "import math  "
   ]
  },
  {
   "cell_type": "code",
   "execution_count": null,
   "id": "bfcbf1d4",
   "metadata": {},
   "outputs": [],
   "source": []
  }
 ],
 "metadata": {
  "kernelspec": {
   "display_name": "Python 3 (ipykernel)",
   "language": "python",
   "name": "python3"
  },
  "language_info": {
   "codemirror_mode": {
    "name": "ipython",
    "version": 3
   },
   "file_extension": ".py",
   "mimetype": "text/x-python",
   "name": "python",
   "nbconvert_exporter": "python",
   "pygments_lexer": "ipython3",
   "version": "3.11.5"
  }
 },
 "nbformat": 4,
 "nbformat_minor": 5
}
