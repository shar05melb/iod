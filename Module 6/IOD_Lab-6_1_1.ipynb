{
 "cells": [
  {
   "cell_type": "markdown",
   "metadata": {
    "id": "9buSDVQSZdoN"
   },
   "source": [
    "<div>\n",
    "<img src=https://www.institutedata.com/wp-content/uploads/2019/10/iod_h_tp_primary_c.svg width=\"300\">\n",
    "</div>"
   ]
  },
  {
   "cell_type": "markdown",
   "metadata": {
    "id": "o59uK883ZdoO"
   },
   "source": [
    "# Lab 6.1.1: K-Means by the algorithm\n",
    "\n",
    "### Australian athletes data set\n",
    "\n",
    "##### Description\n",
    "These data were collected in a study of how data on various characteristics of the blood varied with sport, body size, and sex of the athlete.\n",
    "\n",
    "Usage\n",
    "data(ais)\n",
    "Format\n",
    "A data frame with 202 observations on the following 13 variables.\n",
    "\n",
    "rcc\n",
    "red blood cell count, in\n",
    "\n",
    "wcc\n",
    "white blood cell count, in per liter\n",
    "\n",
    "hc\n",
    "hematocrit, percent\n",
    "\n",
    "hg\n",
    "hemaglobin concentration, in g per decaliter\n",
    "\n",
    "ferr\n",
    "plasma ferritins, ng\n",
    "\n",
    "bmi\n",
    "Body mass index, kg\n",
    "\n",
    "ssf\n",
    "sum of skin folds\n",
    "\n",
    "pcBfat\n",
    "percent Body fat\n",
    "\n",
    "lbm\n",
    "lean body mass, kg\n",
    "\n",
    "ht\n",
    "height, cm\n",
    "\n",
    "wt\n",
    "weight, kg\n",
    "\n",
    "sex\n",
    "a factor with levels f m\n",
    "\n",
    "sport\n",
    "a factor with levels B_Ball Field Gym Netball Row Swim T_400m T_Sprnt Tennis W_Polo\n",
    "\n",
    "Details\n",
    "Do blood hemoglobin concentrations of athletes in endurance-related events differ from those in power-related events?\n",
    "\n",
    "Source\n",
    "These data were the basis for the analyses that are reported in Telford and Cunningham (1991).\n",
    "\n",
    "References\n",
    "Telford, R.D. and Cunningham, R.B. 1991. Sex, sport and body-size dependency of hematology in highly trained athletes. Medicine and Science in Sports and Exercise 23: 788-794.\n",
    "\n",
    "**References**\n",
    "\n",
    "[Data](http://vincentarelbundock.github.io/Rdatasets/csv/DAAG/ais.csv)\n",
    "\n",
    "[Data Dictionary](http://vincentarelbundock.github.io/Rdatasets/doc/DAAG/ais.html)"
   ]
  },
  {
   "cell_type": "code",
   "execution_count": 1,
   "metadata": {
    "id": "I5rfFoKjZdoP",
    "tags": []
   },
   "outputs": [],
   "source": [
    "# IMPORT LIBRARIES\n",
    "import pandas as pd"
   ]
  },
  {
   "cell_type": "markdown",
   "metadata": {
    "id": "PSGo77oGZdoT"
   },
   "source": [
    "### 1. Import the data"
   ]
  },
  {
   "cell_type": "code",
   "execution_count": 3,
   "metadata": {
    "id": "94YMO8LbZdoU",
    "tags": []
   },
   "outputs": [],
   "source": [
    "file_path = r\"C:\\Users\\sharo\\Desktop\\iod\\DATA\\ais.csv\"\n",
    "data = pd.read_csv(file_path)\n",
    "csv_file = 'ais.csv'"
   ]
  },
  {
   "cell_type": "markdown",
   "metadata": {
    "id": "_OnASLbbZdoW"
   },
   "source": [
    "### 2. Do some EDA of relationships between features."
   ]
  },
  {
   "cell_type": "code",
   "execution_count": 4,
   "metadata": {
    "tags": []
   },
   "outputs": [
    {
     "data": {
      "text/plain": [
       "(         rownames         rcc         wcc          hc          hg        ferr  \\\n",
       " count  202.000000  202.000000  202.000000  202.000000  202.000000  202.000000   \n",
       " mean   101.500000    4.718614    7.108911   43.091584   14.566337   76.876238   \n",
       " std     58.456537    0.457976    1.800337    3.662989    1.362451   47.501239   \n",
       " min      1.000000    3.800000    3.300000   35.900000   11.600000    8.000000   \n",
       " 25%     51.250000    4.372500    5.900000   40.600000   13.500000   41.250000   \n",
       " 50%    101.500000    4.755000    6.850000   43.500000   14.700000   65.500000   \n",
       " 75%    151.750000    5.030000    8.275000   45.575000   15.575000   97.000000   \n",
       " max    202.000000    6.720000   14.300000   59.700000   19.200000  234.000000   \n",
       " \n",
       "               bmi         ssf      pcBfat         lbm          ht          wt  \n",
       " count  202.000000  202.000000  202.000000  202.000000  202.000000  202.000000  \n",
       " mean    22.955891   69.021782   13.507426   64.873713  180.103960   75.007921  \n",
       " std      2.863933   32.565333    6.189826   13.070197    9.734494   13.925199  \n",
       " min     16.750000   28.000000    5.630000   34.360000  148.900000   37.800000  \n",
       " 25%     21.082500   43.850000    8.545000   54.667500  174.000000   66.525000  \n",
       " 50%     22.720000   58.600000   11.650000   63.035000  179.700000   74.400000  \n",
       " 75%     24.465000   90.350000   18.080000   74.750000  186.175000   84.125000  \n",
       " max     34.420000  200.800000   35.520000  106.000000  209.400000  123.200000  ,\n",
       " rownames    0\n",
       " rcc         0\n",
       " wcc         0\n",
       " hc          0\n",
       " hg          0\n",
       " ferr        0\n",
       " bmi         0\n",
       " ssf         0\n",
       " pcBfat      0\n",
       " lbm         0\n",
       " ht          0\n",
       " wt          0\n",
       " sex         0\n",
       " sport       0\n",
       " dtype: int64)"
      ]
     },
     "execution_count": 4,
     "metadata": {},
     "output_type": "execute_result"
    }
   ],
   "source": [
    "# Summary statistics of the dataset\n",
    "summary_statistics = data.describe()\n",
    "\n",
    "# Check for missing values in the dataset\n",
    "missing_values = data.isnull().sum()\n",
    "\n",
    "(summary_statistics, missing_values)"
   ]
  },
  {
   "cell_type": "code",
   "execution_count": null,
   "metadata": {},
   "outputs": [],
   "source": []
  },
  {
   "cell_type": "code",
   "execution_count": null,
   "metadata": {},
   "outputs": [],
   "source": []
  },
  {
   "cell_type": "code",
   "execution_count": null,
   "metadata": {},
   "outputs": [],
   "source": []
  },
  {
   "cell_type": "code",
   "execution_count": null,
   "metadata": {},
   "outputs": [],
   "source": []
  },
  {
   "cell_type": "code",
   "execution_count": null,
   "metadata": {},
   "outputs": [],
   "source": []
  },
  {
   "cell_type": "markdown",
   "metadata": {
    "id": "NyMRchAMZdoX"
   },
   "source": [
    "### 3. Prepare the data for clustering\n",
    "\n",
    "1. Remove the `sex`, `sport` column. We will see if the clusters from K-Means end up like the actual sex.\n",
    "2. Put the features on the same scale."
   ]
  },
  {
   "cell_type": "code",
   "execution_count": null,
   "metadata": {
    "id": "5yThA9TqZdoY"
   },
   "outputs": [],
   "source": [
    "# ANSWER"
   ]
  },
  {
   "cell_type": "markdown",
   "metadata": {
    "id": "Y8jUYWkpZdoa"
   },
   "source": [
    "### 4. Clustering with K-Means\n",
    "\n",
    "- Cluster the data to our target groups.\n",
    "    - Use sklearn.cluster.KMeans\n",
    "- We know that there are 2 actual classes. Let's try using 2, 4. Run the clustering algorithm with each of those k values."
   ]
  },
  {
   "cell_type": "code",
   "execution_count": null,
   "metadata": {
    "id": "nCosKVDJZdob"
   },
   "outputs": [],
   "source": [
    "# ANSWER"
   ]
  },
  {
   "cell_type": "markdown",
   "metadata": {
    "id": "jAI-4X61Zdod"
   },
   "source": [
    "### 5. Get the labels for the models"
   ]
  },
  {
   "cell_type": "code",
   "execution_count": null,
   "metadata": {
    "id": "5LeJLcCxZdoe"
   },
   "outputs": [],
   "source": [
    "# ANSWER"
   ]
  },
  {
   "cell_type": "markdown",
   "metadata": {
    "id": "ichQ8nF_Zdog"
   },
   "source": [
    "### 6. Elbow Method For Optimal k\n",
    "\n",
    "For each k value, we will initialise k-means and use the inertia attribute to identify the sum of squared distances of samples to the nearest cluster centre. As k increases, the sum of squared distance tends to zero."
   ]
  },
  {
   "cell_type": "code",
   "execution_count": null,
   "metadata": {
    "id": "g77PHUcgZdoh"
   },
   "outputs": [],
   "source": [
    "# ANSWER"
   ]
  },
  {
   "cell_type": "markdown",
   "metadata": {
    "id": "rgTQLaSNZdoj"
   },
   "source": [
    "Below is a plot of sum of squared distances for k in the range specified above. If the plot looks like an arm, then the elbow on the arm is optimal k."
   ]
  },
  {
   "cell_type": "code",
   "execution_count": null,
   "metadata": {
    "id": "pbJ_EZRGZdok"
   },
   "outputs": [],
   "source": [
    "# ANSWER"
   ]
  },
  {
   "cell_type": "markdown",
   "metadata": {
    "id": "nCs5g-pLZdom"
   },
   "source": [
    "### 7. Plot `wt` vs. `pcBfat` using the clusters from each model.\n",
    "\n",
    "- Plot wt, pcBfat using hue sex\n",
    "- Plot wt, pcBfat using hue label\n",
    "\n",
    "Each time, compare to the actual species classification."
   ]
  },
  {
   "cell_type": "code",
   "execution_count": null,
   "metadata": {
    "id": "qNDCuP1bZdon"
   },
   "outputs": [],
   "source": [
    "# ANSWER"
   ]
  },
  {
   "cell_type": "markdown",
   "metadata": {
    "id": "n5gar-w0j2Tr"
   },
   "source": [
    "\n",
    "\n",
    "---\n",
    "\n",
    "\n",
    "\n",
    "---\n",
    "\n",
    "\n",
    "\n",
    "> > > > > > > > > © 2023 Institute of Data\n",
    "\n",
    "\n",
    "---\n",
    "\n",
    "\n",
    "\n",
    "---\n",
    "\n",
    "\n",
    "\n"
   ]
  }
 ],
 "metadata": {
  "colab": {
   "provenance": []
  },
  "kernelspec": {
   "display_name": "Python 3 (ipykernel)",
   "language": "python",
   "name": "python3"
  },
  "language_info": {
   "codemirror_mode": {
    "name": "ipython",
    "version": 3
   },
   "file_extension": ".py",
   "mimetype": "text/x-python",
   "name": "python",
   "nbconvert_exporter": "python",
   "pygments_lexer": "ipython3",
   "version": "3.11.5"
  }
 },
 "nbformat": 4,
 "nbformat_minor": 4
}
